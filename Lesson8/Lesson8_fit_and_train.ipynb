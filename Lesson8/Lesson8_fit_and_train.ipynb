{
 "cells": [
  {
   "cell_type": "markdown",
   "metadata": {},
   "source": [
    "### Домашнее задание\n",
    "\n",
    "\n",
    "1. Скачать любой понравившийся вам датасет с UCI repository(можете даже свой какой-то взять) и сразу же разделите его на тренировочную и тестовую выборки. Тестовую выборку сохраните на диск и больше не трогайте. \n",
    "2. Провести EDA (exploratory data analysis: histograms, boxplots - visualization, etc). Например\n",
    "3. Сделать feature engineering. При этом постарайтесь «завернуть» ваш код для преобразования данных в классы или функции (пример Transformer как в ноутбуке). \n",
    "4. Обучить базовую модель (любую - на ваш выбор). При этом нужно использовать cross validation\n",
    "5. Посчитайте разные метрики качества на cross-validation, отрисуйте графики (roc auc)\n",
    "6. Сделать подбор гиперпараметров с помощью той же самой cross-validation. \n",
    "7. Сохраните вашу модель на диск\n",
    "8. [в отдельном ноутбуке!] Загрузите ваш отложенный на шаге 1 датасет и сохраненные ранее файлы и сделайте прогноз моделью. \n",
    "9. Посчитайте метрики качества и сделайте выводы о том, насколько прогнозы (качество) на «новых» данных отличаются от того, что вы видели на cross-validation. Если будут очень серьезные отличия, то подумайте, где вы ошиблись и как это можно поправить.\n",
    "10. Бонусный вопрос: у вас есть на выбор два варианта разделения вашего исходного датасета - на train/test и на train/test/val. Подумайте, в каких ситуациях предпочтительнее один или второй вариант либо всегда лучше какой-то один? Какой бы выбрали вы?"
   ]
  },
  {
   "cell_type": "code",
   "execution_count": 1,
   "metadata": {},
   "outputs": [
    {
     "name": "stderr",
     "output_type": "stream",
     "text": [
      "C:\\Users\\sych_\\Anaconda3\\lib\\site-packages\\sklearn\\utils\\deprecation.py:143: FutureWarning: The sklearn.metrics.scorer module is  deprecated in version 0.22 and will be removed in version 0.24. The corresponding classes / functions should instead be imported from sklearn.metrics. Anything that cannot be imported from sklearn.metrics is now part of the private API.\n",
      "  warnings.warn(message, FutureWarning)\n"
     ]
    }
   ],
   "source": [
    "import numpy as np\n",
    "import pandas as pd\n",
    "from sklearn import datasets\n",
    "from matplotlib import pyplot as plt\n",
    "from sklearn.model_selection import train_test_split\n",
    "\n",
    "from sklearn.metrics import accuracy_score\n",
    "%matplotlib inline\n",
    "\n",
    "from sklearn.metrics import confusion_matrix,accuracy_score,classification_report\n",
    "from sklearn.metrics import roc_auc_score,roc_curve,scorer\n",
    "from sklearn.metrics import f1_score\n",
    "from sklearn.metrics import precision_score,recall_score"
   ]
  },
  {
   "cell_type": "code",
   "execution_count": 2,
   "metadata": {},
   "outputs": [],
   "source": [
    "# загрузка набор данных Ирисы:\n",
    "iris = datasets.load_iris()"
   ]
  },
  {
   "cell_type": "code",
   "execution_count": 3,
   "metadata": {},
   "outputs": [],
   "source": [
    "iris_frame = pd.DataFrame(iris.data)\n",
    "# обозначение колонок и целевых переменных\n",
    "iris_frame.columns = iris.feature_names\n",
    "iris_frame['target'] = iris.target"
   ]
  },
  {
   "cell_type": "code",
   "execution_count": 4,
   "metadata": {},
   "outputs": [
    {
     "name": "stdout",
     "output_type": "stream",
     "text": [
      "(150, 5)\n",
      "Rows     :  150\n",
      "Columns  :  5\n",
      "\n",
      "Features : \n",
      " ['sepal length (cm)', 'sepal width (cm)', 'petal length (cm)', 'petal width (cm)', 'target']\n",
      "\n",
      "Missing values :   0\n",
      "\n",
      "Unique values :  \n",
      " sepal length (cm)    35\n",
      "sepal width (cm)     23\n",
      "petal length (cm)    43\n",
      "petal width (cm)     22\n",
      "target                3\n",
      "dtype: int64\n"
     ]
    },
    {
     "data": {
      "text/html": [
       "<div>\n",
       "<style scoped>\n",
       "    .dataframe tbody tr th:only-of-type {\n",
       "        vertical-align: middle;\n",
       "    }\n",
       "\n",
       "    .dataframe tbody tr th {\n",
       "        vertical-align: top;\n",
       "    }\n",
       "\n",
       "    .dataframe thead th {\n",
       "        text-align: right;\n",
       "    }\n",
       "</style>\n",
       "<table border=\"1\" class=\"dataframe\">\n",
       "  <thead>\n",
       "    <tr style=\"text-align: right;\">\n",
       "      <th></th>\n",
       "      <th>sepal length (cm)</th>\n",
       "      <th>sepal width (cm)</th>\n",
       "      <th>petal length (cm)</th>\n",
       "      <th>petal width (cm)</th>\n",
       "      <th>target</th>\n",
       "    </tr>\n",
       "  </thead>\n",
       "  <tbody>\n",
       "    <tr>\n",
       "      <th>0</th>\n",
       "      <td>5.1</td>\n",
       "      <td>3.5</td>\n",
       "      <td>1.4</td>\n",
       "      <td>0.2</td>\n",
       "      <td>0</td>\n",
       "    </tr>\n",
       "    <tr>\n",
       "      <th>1</th>\n",
       "      <td>4.9</td>\n",
       "      <td>3.0</td>\n",
       "      <td>1.4</td>\n",
       "      <td>0.2</td>\n",
       "      <td>0</td>\n",
       "    </tr>\n",
       "    <tr>\n",
       "      <th>2</th>\n",
       "      <td>4.7</td>\n",
       "      <td>3.2</td>\n",
       "      <td>1.3</td>\n",
       "      <td>0.2</td>\n",
       "      <td>0</td>\n",
       "    </tr>\n",
       "    <tr>\n",
       "      <th>3</th>\n",
       "      <td>4.6</td>\n",
       "      <td>3.1</td>\n",
       "      <td>1.5</td>\n",
       "      <td>0.2</td>\n",
       "      <td>0</td>\n",
       "    </tr>\n",
       "    <tr>\n",
       "      <th>4</th>\n",
       "      <td>5.0</td>\n",
       "      <td>3.6</td>\n",
       "      <td>1.4</td>\n",
       "      <td>0.2</td>\n",
       "      <td>0</td>\n",
       "    </tr>\n",
       "  </tbody>\n",
       "</table>\n",
       "</div>"
      ],
      "text/plain": [
       "   sepal length (cm)  sepal width (cm)  petal length (cm)  petal width (cm)  \\\n",
       "0                5.1               3.5                1.4               0.2   \n",
       "1                4.9               3.0                1.4               0.2   \n",
       "2                4.7               3.2                1.3               0.2   \n",
       "3                4.6               3.1                1.5               0.2   \n",
       "4                5.0               3.6                1.4               0.2   \n",
       "\n",
       "   target  \n",
       "0       0  \n",
       "1       0  \n",
       "2       0  \n",
       "3       0  \n",
       "4       0  "
      ]
     },
     "execution_count": 4,
     "metadata": {},
     "output_type": "execute_result"
    }
   ],
   "source": [
    "print(iris_frame.shape)\n",
    "print (\"Rows     : \" ,iris_frame.shape[0])\n",
    "print (\"Columns  : \" ,iris_frame.shape[1])\n",
    "print (\"\\nFeatures : \\n\" ,iris_frame.columns.tolist())\n",
    "print (\"\\nMissing values :  \", iris_frame.isnull().sum().values.sum())\n",
    "print (\"\\nUnique values :  \\n\",iris_frame.nunique())\n",
    "iris_frame.head()"
   ]
  },
  {
   "cell_type": "markdown",
   "metadata": {},
   "source": [
    "### Preprocess and feature engineering"
   ]
  },
  {
   "cell_type": "code",
   "execution_count": 5,
   "metadata": {},
   "outputs": [
    {
     "data": {
      "text/html": [
       "<div>\n",
       "<style scoped>\n",
       "    .dataframe tbody tr th:only-of-type {\n",
       "        vertical-align: middle;\n",
       "    }\n",
       "\n",
       "    .dataframe tbody tr th {\n",
       "        vertical-align: top;\n",
       "    }\n",
       "\n",
       "    .dataframe thead th {\n",
       "        text-align: right;\n",
       "    }\n",
       "</style>\n",
       "<table border=\"1\" class=\"dataframe\">\n",
       "  <thead>\n",
       "    <tr style=\"text-align: right;\">\n",
       "      <th></th>\n",
       "      <th>sepal length (cm)</th>\n",
       "      <th>sepal width (cm)</th>\n",
       "      <th>petal length (cm)</th>\n",
       "      <th>petal width (cm)</th>\n",
       "      <th>target</th>\n",
       "      <th>sepal square (cm**2)</th>\n",
       "      <th>petal square (cm**2)</th>\n",
       "    </tr>\n",
       "  </thead>\n",
       "  <tbody>\n",
       "    <tr>\n",
       "      <th>0</th>\n",
       "      <td>5.1</td>\n",
       "      <td>3.5</td>\n",
       "      <td>1.4</td>\n",
       "      <td>0.2</td>\n",
       "      <td>0</td>\n",
       "      <td>17.85</td>\n",
       "      <td>0.28</td>\n",
       "    </tr>\n",
       "    <tr>\n",
       "      <th>1</th>\n",
       "      <td>4.9</td>\n",
       "      <td>3.0</td>\n",
       "      <td>1.4</td>\n",
       "      <td>0.2</td>\n",
       "      <td>0</td>\n",
       "      <td>14.70</td>\n",
       "      <td>0.28</td>\n",
       "    </tr>\n",
       "    <tr>\n",
       "      <th>2</th>\n",
       "      <td>4.7</td>\n",
       "      <td>3.2</td>\n",
       "      <td>1.3</td>\n",
       "      <td>0.2</td>\n",
       "      <td>0</td>\n",
       "      <td>15.04</td>\n",
       "      <td>0.26</td>\n",
       "    </tr>\n",
       "    <tr>\n",
       "      <th>3</th>\n",
       "      <td>4.6</td>\n",
       "      <td>3.1</td>\n",
       "      <td>1.5</td>\n",
       "      <td>0.2</td>\n",
       "      <td>0</td>\n",
       "      <td>14.26</td>\n",
       "      <td>0.30</td>\n",
       "    </tr>\n",
       "    <tr>\n",
       "      <th>4</th>\n",
       "      <td>5.0</td>\n",
       "      <td>3.6</td>\n",
       "      <td>1.4</td>\n",
       "      <td>0.2</td>\n",
       "      <td>0</td>\n",
       "      <td>18.00</td>\n",
       "      <td>0.28</td>\n",
       "    </tr>\n",
       "  </tbody>\n",
       "</table>\n",
       "</div>"
      ],
      "text/plain": [
       "   sepal length (cm)  sepal width (cm)  petal length (cm)  petal width (cm)  \\\n",
       "0                5.1               3.5                1.4               0.2   \n",
       "1                4.9               3.0                1.4               0.2   \n",
       "2                4.7               3.2                1.3               0.2   \n",
       "3                4.6               3.1                1.5               0.2   \n",
       "4                5.0               3.6                1.4               0.2   \n",
       "\n",
       "   target  sepal square (cm**2)  petal square (cm**2)  \n",
       "0       0                 17.85                  0.28  \n",
       "1       0                 14.70                  0.28  \n",
       "2       0                 15.04                  0.26  \n",
       "3       0                 14.26                  0.30  \n",
       "4       0                 18.00                  0.28  "
      ]
     },
     "execution_count": 5,
     "metadata": {},
     "output_type": "execute_result"
    }
   ],
   "source": [
    "#две новые фичи - площадь чашелистника и площадь лепеска\n",
    "iris_frame['sepal square (cm**2)'] = iris_frame['sepal length (cm)'] * iris_frame['sepal width (cm)']  \n",
    "iris_frame['petal square (cm**2)'] = iris_frame['petal length (cm)'] * iris_frame['petal width (cm)']  \n",
    "iris_frame.head()"
   ]
  },
  {
   "cell_type": "markdown",
   "metadata": {},
   "source": [
    "### EDA"
   ]
  },
  {
   "cell_type": "code",
   "execution_count": 6,
   "metadata": {},
   "outputs": [
    {
     "data": {
      "image/png": "[encoded data removed]",
      "text/plain": [
       "<Figure size 432x288 with 1 Axes>"
      ]
     },
     "metadata": {
      "needs_background": "light"
     },
     "output_type": "display_data"
    }
   ],
   "source": [
    "plt.scatter(iris_frame[iris_frame['target']==0]['sepal square (cm**2)'], iris_frame[iris_frame['target']==0]['petal square (cm**2)'])\n",
    "plt.scatter(iris_frame[iris_frame['target']==1]['sepal square (cm**2)'], iris_frame[iris_frame['target']==1]['petal square (cm**2)'])\n",
    "plt.scatter(iris_frame[iris_frame['target']==2]['sepal square (cm**2)'], iris_frame[iris_frame['target']==2]['petal square (cm**2)'])\n",
    "plt.show()"
   ]
  },
  {
   "cell_type": "markdown",
   "metadata": {},
   "source": [
    "### Creating a holdout dataset (test)"
   ]
  },
  {
   "cell_type": "markdown",
   "metadata": {},
   "source": [
    "Создадим отложенную выборку, которую мы не будем трогать до самого конца"
   ]
  },
  {
   "cell_type": "code",
   "execution_count": 7,
   "metadata": {},
   "outputs": [
    {
     "name": "stderr",
     "output_type": "stream",
     "text": [
      "C:\\Users\\sych_\\Anaconda3\\lib\\site-packages\\ipykernel_launcher.py:8: FutureWarning: The signature of `Series.to_csv` was aligned to that of `DataFrame.to_csv`, and argument 'header' will change its default value from False to True: please pass an explicit value to suppress this warning.\n",
      "  \n",
      "C:\\Users\\sych_\\Anaconda3\\lib\\site-packages\\ipykernel_launcher.py:11: FutureWarning: The signature of `Series.to_csv` was aligned to that of `DataFrame.to_csv`, and argument 'header' will change its default value from False to True: please pass an explicit value to suppress this warning.\n",
      "  # This is added back by InteractiveShellApp.init_path()\n"
     ]
    },
    {
     "data": {
      "text/html": [
       "<div>\n",
       "<style scoped>\n",
       "    .dataframe tbody tr th:only-of-type {\n",
       "        vertical-align: middle;\n",
       "    }\n",
       "\n",
       "    .dataframe tbody tr th {\n",
       "        vertical-align: top;\n",
       "    }\n",
       "\n",
       "    .dataframe thead th {\n",
       "        text-align: right;\n",
       "    }\n",
       "</style>\n",
       "<table border=\"1\" class=\"dataframe\">\n",
       "  <thead>\n",
       "    <tr style=\"text-align: right;\">\n",
       "      <th></th>\n",
       "      <th>sepal square (cm**2)</th>\n",
       "      <th>petal square (cm**2)</th>\n",
       "    </tr>\n",
       "  </thead>\n",
       "  <tbody>\n",
       "    <tr>\n",
       "      <th>81</th>\n",
       "      <td>13.20</td>\n",
       "      <td>3.70</td>\n",
       "    </tr>\n",
       "    <tr>\n",
       "      <th>133</th>\n",
       "      <td>17.64</td>\n",
       "      <td>7.65</td>\n",
       "    </tr>\n",
       "    <tr>\n",
       "      <th>137</th>\n",
       "      <td>19.84</td>\n",
       "      <td>9.90</td>\n",
       "    </tr>\n",
       "    <tr>\n",
       "      <th>75</th>\n",
       "      <td>19.80</td>\n",
       "      <td>6.16</td>\n",
       "    </tr>\n",
       "    <tr>\n",
       "      <th>109</th>\n",
       "      <td>25.92</td>\n",
       "      <td>15.25</td>\n",
       "    </tr>\n",
       "  </tbody>\n",
       "</table>\n",
       "</div>"
      ],
      "text/plain": [
       "     sepal square (cm**2)  petal square (cm**2)\n",
       "81                  13.20                  3.70\n",
       "133                 17.64                  7.65\n",
       "137                 19.84                  9.90\n",
       "75                  19.80                  6.16\n",
       "109                 25.92                 15.25"
      ]
     },
     "execution_count": 7,
     "metadata": {},
     "output_type": "execute_result"
    }
   ],
   "source": [
    "#features = ['sepal square (cm**2)', 'petal square (cm**2)']\n",
    "#target = 'target'\n",
    "\n",
    "X_train, X_test, y_train, y_test = train_test_split(iris_frame[['sepal square (cm**2)','petal square (cm**2)']], \n",
    "                                                    iris_frame['target'], test_size=0.3, random_state=42)\n",
    "#save test\n",
    "X_test.to_csv(\"X_test.csv\", index=None)\n",
    "y_test.to_csv(\"y_test.csv\", index=None)\n",
    "#save train\n",
    "X_train.to_csv(\"X_train.csv\", index=None)\n",
    "y_train.to_csv(\"y_train.csv\", index=None)\n",
    "X_train.head()"
   ]
  },
  {
   "cell_type": "code",
   "execution_count": 8,
   "metadata": {},
   "outputs": [
    {
     "data": {
      "text/plain": [
       "(45, 2)"
      ]
     },
     "execution_count": 8,
     "metadata": {},
     "output_type": "execute_result"
    }
   ],
   "source": [
    "X_test.shape"
   ]
  },
  {
   "cell_type": "code",
   "execution_count": 9,
   "metadata": {},
   "outputs": [
    {
     "data": {
      "text/plain": [
       "(105, 2)"
      ]
     },
     "execution_count": 9,
     "metadata": {},
     "output_type": "execute_result"
    }
   ],
   "source": [
    "X_train.shape"
   ]
  },
  {
   "cell_type": "markdown",
   "metadata": {},
   "source": [
    "### sklearn Transformers"
   ]
  },
  {
   "cell_type": "code",
   "execution_count": 10,
   "metadata": {},
   "outputs": [],
   "source": [
    "from sklearn.base import BaseEstimator, TransformerMixin\n",
    "    \n",
    "class NumberSelector(BaseEstimator, TransformerMixin):\n",
    "    \"\"\"\n",
    "    Transformer to select a single column from the data frame to perform additional transformations on\n",
    "    Use on numeric columns in the data\n",
    "    \"\"\"\n",
    "    def __init__(self, key):\n",
    "        self.key = key\n",
    "\n",
    "    def fit(self, X, y=None):\n",
    "        return self\n",
    "\n",
    "    def transform(self, X):\n",
    "        return X[[self.key]]"
   ]
  },
  {
   "cell_type": "markdown",
   "metadata": {},
   "source": [
    "### Соберем наш первый пайплайн"
   ]
  },
  {
   "cell_type": "code",
   "execution_count": 11,
   "metadata": {},
   "outputs": [],
   "source": [
    "from sklearn.pipeline import Pipeline\n",
    "from sklearn.preprocessing import RobustScaler\n",
    "\n",
    "sepal_square =  Pipeline([\n",
    "                ('selector', NumberSelector(key='sepal square (cm**2)')),\n",
    "                ('standard', RobustScaler())\n",
    "            ])\n",
    "\n",
    "petal_square =  Pipeline([\n",
    "                ('selector', NumberSelector(key='petal square (cm**2)')),\n",
    "                ('standard', RobustScaler())\n",
    "            ])"
   ]
  },
  {
   "cell_type": "code",
   "execution_count": 12,
   "metadata": {},
   "outputs": [
    {
     "data": {
      "text/plain": [
       "array([[-0.91101695, -0.20543478],\n",
       "       [ 0.02966102,  0.22391304],\n",
       "       [ 0.49576271,  0.46847826],\n",
       "       [ 0.48728814,  0.06195652],\n",
       "       [ 1.78389831,  1.05      ],\n",
       "       [-0.20550847, -0.01413043],\n",
       "       [ 1.12288136,  0.89891304],\n",
       "       [-0.14830508,  0.12608696],\n",
       "       [ 0.07415254, -0.57717391],\n",
       "       [ 0.86016949,  0.84891304],\n",
       "       [-0.38983051, -0.16195652],\n",
       "       [ 0.03813559, -0.57717391],\n",
       "       [ 0.        , -0.56521739],\n",
       "       [ 0.39830508, -0.525     ],\n",
       "       [-1.58898305, -0.22717391],\n",
       "       [-0.10381356,  0.35108696],\n",
       "       [-0.25      , -0.56630435],\n",
       "       [-0.52966102, -0.57282609],\n",
       "       [-0.14194915, -0.51521739],\n",
       "       [-0.50423729, -0.01413043],\n",
       "       [-0.03389831, -0.575     ],\n",
       "       [-0.08474576, -0.05978261],\n",
       "       [ 2.49152542,  0.99456522],\n",
       "       [-0.58898305, -0.57717391],\n",
       "       [ 0.10169492,  0.        ],\n",
       "       [-0.68855932,  0.47934783],\n",
       "       [ 1.18644068, -0.57717391],\n",
       "       [ 0.1059322 ,  0.33152174],\n",
       "       [-0.38983051,  0.44565217],\n",
       "       [-0.91101695, -0.17282609],\n",
       "       [-0.27542373,  0.12608696],\n",
       "       [ 0.75847458,  0.7423913 ],\n",
       "       [-1.02754237, -0.0423913 ],\n",
       "       [ 0.75423729, -0.53369565],\n",
       "       [-1.27118644, -0.24891304],\n",
       "       [-0.04661017,  0.48695652],\n",
       "       [-0.21186441, -0.57717391],\n",
       "       [-0.31779661, -0.58152174],\n",
       "       [-0.91101695, -0.15326087],\n",
       "       [ 0.55084746,  0.31630435],\n",
       "       [-0.48940678, -0.575     ],\n",
       "       [-0.26694915,  0.72282609],\n",
       "       [-0.1059322 , -0.575     ],\n",
       "       [ 0.        , -0.50326087],\n",
       "       [ 0.29237288,  0.33152174],\n",
       "       [-1.00635593, -0.24891304],\n",
       "       [ 0.97033898,  0.8173913 ],\n",
       "       [-0.27542373,  0.27934783],\n",
       "       [-0.34745763,  0.24456522],\n",
       "       [ 1.18644068,  0.9173913 ],\n",
       "       [-0.79449153, -0.0423913 ],\n",
       "       [-1.00423729, -0.57717391],\n",
       "       [-0.97457627, -0.59565217],\n",
       "       [-0.91101695,  0.2076087 ],\n",
       "       [ 1.17372881,  0.56630435],\n",
       "       [-0.68644068, -0.575     ],\n",
       "       [ 0.07415254, -0.56195652],\n",
       "       [-0.91101695, -0.57934783],\n",
       "       [-0.37076271,  0.19130435],\n",
       "       [ 0.83050847,  0.85326087],\n",
       "       [-0.3940678 , -0.56195652],\n",
       "       [ 0.61440678,  0.64782609],\n",
       "       [ 0.6970339 ,  1.02282609],\n",
       "       [-0.52118644, -0.57934783],\n",
       "       [ 0.04025424,  0.1076087 ],\n",
       "       [ 0.14830508,  0.1423913 ],\n",
       "       [-0.02966102,  0.33152174],\n",
       "       [ 1.03813559,  0.1076087 ],\n",
       "       [ 0.63135593,  0.7173913 ],\n",
       "       [ 0.39830508, -0.57282609],\n",
       "       [ 0.82415254,  0.625     ],\n",
       "       [ 0.04237288,  0.07717391],\n",
       "       [ 0.42372881,  0.52282609],\n",
       "       [-0.56779661, -0.22717391],\n",
       "       [-0.73305085, -0.01413043],\n",
       "       [ 0.16949153,  0.0923913 ],\n",
       "       [-1.51483051, -0.56521739],\n",
       "       [ 0.34745763,  0.0423913 ],\n",
       "       [-0.6779661 , -0.03369565],\n",
       "       [ 0.4470339 , -0.575     ],\n",
       "       [-0.14830508, -0.02826087],\n",
       "       [ 0.77754237,  0.625     ],\n",
       "       [ 0.97669492,  0.69347826],\n",
       "       [ 0.29025424, -0.5423913 ],\n",
       "       [-1.21610169, -0.24891304],\n",
       "       [ 0.97669492,  0.94130435],\n",
       "       [ 0.86864407,  0.40108696],\n",
       "       [ 0.02966102, -0.5923913 ],\n",
       "       [ 0.69279661,  0.85326087],\n",
       "       [-0.59322034, -0.57717391],\n",
       "       [ 0.82415254,  0.19130435],\n",
       "       [ 0.68220339,  0.65217391],\n",
       "       [ 0.16313559,  0.48804348],\n",
       "       [-0.32627119, -0.02826087],\n",
       "       [ 0.42372881,  0.46847826],\n",
       "       [-0.63771186,  0.01413043],\n",
       "       [ 0.22457627,  0.        ],\n",
       "       [-0.38559322,  0.4576087 ],\n",
       "       [ 0.04237288,  0.39021739],\n",
       "       [ 0.18220339, -0.57065217],\n",
       "       [-0.08898305, -0.0423913 ],\n",
       "       [-1.11228814,  0.22391304],\n",
       "       [ 1.20762712, -0.58152174],\n",
       "       [-0.51271186, -0.08586957],\n",
       "       [ 0.80508475,  0.73913043]])"
      ]
     },
     "execution_count": 12,
     "metadata": {},
     "output_type": "execute_result"
    }
   ],
   "source": [
    "from sklearn.pipeline import FeatureUnion\n",
    "\n",
    "feats = FeatureUnion([('sepal square (cm**2)', sepal_square), \n",
    "                      ('petal square (cm**2)', petal_square)])\n",
    "\n",
    "feature_processing = Pipeline([('feats', feats)])\n",
    "feature_processing.fit_transform(X_train)"
   ]
  },
  {
   "cell_type": "markdown",
   "metadata": {},
   "source": [
    "Теперь у нас есть один объект, который умеет преобразовывать наши данные"
   ]
  },
  {
   "cell_type": "code",
   "execution_count": 13,
   "metadata": {},
   "outputs": [
    {
     "data": {
      "text/plain": [
       "1.0"
      ]
     },
     "execution_count": 13,
     "metadata": {},
     "output_type": "execute_result"
    }
   ],
   "source": [
    "from sklearn import svm\n",
    "svc = svm.SVC()\n",
    "\n",
    "pipeline = Pipeline([\n",
    "    ('features',feats),\n",
    "    ('classifier', svc),\n",
    "])\n",
    "\n",
    "pipeline.fit(X_train, y_train)\n",
    "\n",
    "preds = pipeline.predict(X_test)\n",
    "np.mean(preds == y_test)"
   ]
  },
  {
   "cell_type": "markdown",
   "metadata": {},
   "source": [
    "### А теперь давайте перейдем к кроссвалидации"
   ]
  },
  {
   "cell_type": "code",
   "execution_count": 14,
   "metadata": {},
   "outputs": [
    {
     "data": {
      "text/plain": [
       "dict_keys(['memory', 'steps', 'verbose', 'features', 'classifier', 'features__n_jobs', 'features__transformer_list', 'features__transformer_weights', 'features__verbose', 'features__sepal square (cm**2)', 'features__petal square (cm**2)', 'features__sepal square (cm**2)__memory', 'features__sepal square (cm**2)__steps', 'features__sepal square (cm**2)__verbose', 'features__sepal square (cm**2)__selector', 'features__sepal square (cm**2)__standard', 'features__sepal square (cm**2)__selector__key', 'features__sepal square (cm**2)__standard__copy', 'features__sepal square (cm**2)__standard__quantile_range', 'features__sepal square (cm**2)__standard__with_centering', 'features__sepal square (cm**2)__standard__with_scaling', 'features__petal square (cm**2)__memory', 'features__petal square (cm**2)__steps', 'features__petal square (cm**2)__verbose', 'features__petal square (cm**2)__selector', 'features__petal square (cm**2)__standard', 'features__petal square (cm**2)__selector__key', 'features__petal square (cm**2)__standard__copy', 'features__petal square (cm**2)__standard__quantile_range', 'features__petal square (cm**2)__standard__with_centering', 'features__petal square (cm**2)__standard__with_scaling', 'classifier__C', 'classifier__break_ties', 'classifier__cache_size', 'classifier__class_weight', 'classifier__coef0', 'classifier__decision_function_shape', 'classifier__degree', 'classifier__gamma', 'classifier__kernel', 'classifier__max_iter', 'classifier__probability', 'classifier__random_state', 'classifier__shrinking', 'classifier__tol', 'classifier__verbose'])"
      ]
     },
     "execution_count": 14,
     "metadata": {},
     "output_type": "execute_result"
    }
   ],
   "source": [
    "pipeline.get_params().keys()"
   ]
  },
  {
   "cell_type": "code",
   "execution_count": 15,
   "metadata": {},
   "outputs": [
    {
     "data": {
      "text/plain": [
       "GridSearchCV(cv=3,\n",
       "             estimator=Pipeline(steps=[('features',\n",
       "                                        FeatureUnion(transformer_list=[('sepal '\n",
       "                                                                        'square '\n",
       "                                                                        '(cm**2)',\n",
       "                                                                        Pipeline(steps=[('selector',\n",
       "                                                                                         NumberSelector(key='sepal '\n",
       "                                                                                                            'square '\n",
       "                                                                                                            '(cm**2)')),\n",
       "                                                                                        ('standard',\n",
       "                                                                                         RobustScaler())])),\n",
       "                                                                       ('petal '\n",
       "                                                                        'square '\n",
       "                                                                        '(cm**2)',\n",
       "                                                                        Pipeline(steps=[('selector',\n",
       "                                                                                         NumberSelector(key='petal '\n",
       "                                                                                                            'square '\n",
       "                                                                                                            '(cm**2)')),\n",
       "                                                                                        ('standard',\n",
       "                                                                                         RobustScaler())]))])),\n",
       "                                       ('classifier', SVC())]),\n",
       "             param_grid={'classifier__C': [1, 10, 100],\n",
       "                         'classifier__kernel': ['linear', 'rbf']})"
      ]
     },
     "execution_count": 15,
     "metadata": {},
     "output_type": "execute_result"
    }
   ],
   "source": [
    "from sklearn.model_selection import GridSearchCV\n",
    "\n",
    "hyperparameters = { 'classifier__kernel': ['linear', 'rbf'],\n",
    "                    'classifier__C': [1, 10, 100]\n",
    "                  }\n",
    "\n",
    "clf = GridSearchCV(pipeline, hyperparameters, cv=3)\n",
    " \n",
    "# Fit and tune model\n",
    "clf.fit(X_train, y_train)"
   ]
  },
  {
   "cell_type": "code",
   "execution_count": 16,
   "metadata": {},
   "outputs": [
    {
     "data": {
      "text/plain": [
       "{'classifier__C': 10, 'classifier__kernel': 'linear'}"
      ]
     },
     "execution_count": 16,
     "metadata": {},
     "output_type": "execute_result"
    }
   ],
   "source": [
    "clf.best_params_"
   ]
  },
  {
   "cell_type": "code",
   "execution_count": 17,
   "metadata": {},
   "outputs": [
    {
     "data": {
      "text/plain": [
       "1.0"
      ]
     },
     "execution_count": 17,
     "metadata": {},
     "output_type": "execute_result"
    }
   ],
   "source": [
    "#refitting on entire training data using best settings\n",
    "clf.refit\n",
    "\n",
    "preds = clf.predict(X_test)\n",
    "#probs = clf.predict_proba(X_test)\n",
    "\n",
    "np.mean(preds == y_test)"
   ]
  },
  {
   "cell_type": "markdown",
   "metadata": {},
   "source": [
    "Построим отчет и сохраним наш пайплайн для будущего использования"
   ]
  },
  {
   "cell_type": "code",
   "execution_count": 18,
   "metadata": {},
   "outputs": [
    {
     "name": "stdout",
     "output_type": "stream",
     "text": [
      "\n",
      " Classification report : \n",
      "               precision    recall  f1-score   support\n",
      "\n",
      "           0       1.00      1.00      1.00        19\n",
      "           1       1.00      1.00      1.00        13\n",
      "           2       1.00      1.00      1.00        13\n",
      "\n",
      "    accuracy                           1.00        45\n",
      "   macro avg       1.00      1.00      1.00        45\n",
      "weighted avg       1.00      1.00      1.00        45\n",
      "\n",
      "Accuracy   Score :  1.0\n"
     ]
    }
   ],
   "source": [
    "print (\"\\n Classification report : \\n\",classification_report(y_test,preds))\n",
    "print (\"Accuracy   Score : \",accuracy_score(y_test,preds))\n",
    "#confusion matrix\n",
    "conf_matrix = confusion_matrix(y_test,preds)"
   ]
  },
  {
   "cell_type": "raw",
   "metadata": {},
   "source": [
    "!pip install dill"
   ]
  },
  {
   "cell_type": "code",
   "execution_count": 19,
   "metadata": {},
   "outputs": [],
   "source": [
    "import dill"
   ]
  },
  {
   "cell_type": "code",
   "execution_count": 20,
   "metadata": {},
   "outputs": [],
   "source": [
    "with open(\"model_trained_svm.dill\", \"wb\") as f:\n",
    "    dill.dump(pipeline, f)"
   ]
  },
  {
   "cell_type": "code",
   "execution_count": null,
   "metadata": {},
   "outputs": [],
   "source": []
  }
 ],
 "metadata": {
  "kernelspec": {
   "display_name": "Python 3",
   "language": "python",
   "name": "python3"
  },
  "language_info": {
   "codemirror_mode": {
    "name": "ipython",
    "version": 3
   },
   "file_extension": ".py",
   "mimetype": "text/x-python",
   "name": "python",
   "nbconvert_exporter": "python",
   "pygments_lexer": "ipython3",
   "version": "3.7.5"
  }
 },
 "nbformat": 4,
 "nbformat_minor": 2
}
